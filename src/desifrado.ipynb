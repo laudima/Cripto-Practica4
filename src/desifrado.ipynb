{
 "cells": [
  {
   "cell_type": "markdown",
   "metadata": {},
   "source": [
    "# Practica4"
   ]
  },
  {
   "cell_type": "code",
   "execution_count": 39,
   "metadata": {},
   "outputs": [],
   "source": [
    "import os\n",
    "import base64\n",
    "FILES_FOLDER = \".\\\\files\\\\\""
   ]
  },
  {
   "cell_type": "markdown",
   "metadata": {},
   "source": [
    "## File 1: Base64"
   ]
  },
  {
   "cell_type": "code",
   "execution_count": 40,
   "metadata": {},
   "outputs": [],
   "source": [
    "file1 = open(FILES_FOLDER + \"file1.lol\", \"rb\")\n",
    "read_file1 = file1.read() # String of encoded characters \n",
    "decoded_bytes_file1 = base64.b64decode(read_file1) # Bytes of the file\n",
    "\n",
    "# Write a file with the decoded bytes \n",
    "file1_decoded = open(FILES_FOLDER + \"file1_decoded.png\", \"wb\")\n",
    "file1_decoded.write(decoded_bytes_file1)\n",
    "file1_decoded.close()\n"
   ]
  },
  {
   "cell_type": "markdown",
   "metadata": {},
   "source": [
    "## Magic bytes de archivos \n",
    "\n",
    "* png   - 89 50 4E 47 0D 0A 1A 0A\n",
    "* pdf   - 25 50 44 46 2D\n",
    "* mp4   - 66 74 79 70 69 73 6F 6D (ISO Base Media file )\n",
    "* mp4   - 66 74 79 70 4D 53 4E 56 (MPEG-4 video file)\n",
    "* mp3   - FF FB\n",
    "        - FF F3\n",
    "        - FF F2\n",
    "        - 49 44 33\n",
    "        "
   ]
  },
  {
   "cell_type": "code",
   "execution_count": null,
   "metadata": {},
   "outputs": [],
   "source": [
    "png =[]\n",
    "png.append(int(\"89\", 16))\n",
    "png.append(int(\"50\", 16))\n",
    "png.append(int(\"4E\", 16))\n",
    "png.append(int(\"47\", 16))\n",
    "png.append(int(\"0D\", 16))\n",
    "png.append(int(\"0A\", 16))\n",
    "png.append(int(\"1A\", 16))\n",
    "png.append(int(\"0A\", 16))\n",
    "\n",
    "pdf =[]\n",
    "pdf.append(int(\"25\", 16)) # Decimal 37\n",
    "pdf.append(int(\"50\", 16)) # Decimal 80\n",
    "pdf.append(int(\"44\", 16)) # Decimal 68\n",
    "pdf.append(int(\"46\", 16)) # Decimal 70\n",
    "pdf.append(int(\"2D\", 16))\n",
    "\n",
    "mp41 =[]\n",
    "mp41.append(int(\"66\", 16))\n",
    "mp41.append(int(\"74\", 16))\n",
    "mp41.append(int(\"79\", 16))\n",
    "mp41.append(int(\"70\", 16))\n",
    "\n",
    "mp3 =[]\n",
    "mp3.append(int(\"49\", 16))\n",
    "mp3.append(int(\"44\", 16))\n",
    "mp3.append(int(\"33\", 16))\n",
    "\n",
    "for i in pdf:\n",
    "    print(i, end=\" \")\n"
   ]
  },
  {
   "cell_type": "code",
   "execution_count": 48,
   "metadata": {},
   "outputs": [],
   "source": [
    "\"\"\"\n",
    "Funcion para obtener el inverso modular de un numero\n",
    "- A: numero al que se le quiere obtener el inverso modular\n",
    "- M: modulo\n",
    "\"\"\"\n",
    "def modInverse(A, M):\n",
    "\n",
    "    for X in range(1, M):\n",
    "        if (((A % M) * (X % M)) % M == 1):\n",
    "            return X\n",
    "    return -1\n",
    "\"\"\"\n",
    "Funcion para obtener la alpha y beta de la encriptacion simetrica\n",
    "- byte1_encripted: byte encriptado 1, el primer byte del archivo encriptado\n",
    "- byte2_encripted: byte encriptado 2, el segundo byte del archivo encriptado\n",
    "- byte1_decripted: byte desencriptado 1, el primer byte del archivo desencriptado o el byte de la llave del archivo encriptado\n",
    "- byte2_decripted: byte desencriptado 2, el segundo byte del archivo desencriptado o el byte de la llave del archivo encriptado\n",
    "\"\"\"\n",
    "def alpha_beta_symmetric_encryption(byte1_encripted,byte2_encripted,byte1_decripted,byte2_decripted):\n",
    "    alpha = ((byte1_decripted-byte2_decripted) * modInverse(byte1_encripted - byte2_encripted, 256)) % 256\n",
    "    beta = (byte1_decripted - (alpha * byte1_encripted)) % 256\n",
    "    return alpha, beta\n",
    "\n",
    "\"\"\"\n",
    "Funcion para desencriptar un byte con la encriptacion simetrica\n",
    "- alpha: alpha de la encriptacion simetrica\n",
    "- beta: beta de la encriptacion simetrica\n",
    "- byte: byte encriptado\n",
    "\"\"\"\n",
    "def decript_symmetric_encryption(alpha, beta, byte):\n",
    "    return (alpha * byte + beta) % 256"
   ]
  },
  {
   "cell_type": "code",
   "execution_count": null,
   "metadata": {},
   "outputs": [],
   "source": [
    "file2 = open(FILES_FOLDER + \"file2.lol\", \"rb\")\n",
    "data2 = file2.read()\n",
    "file2.close()\n",
    "\n",
    "for i in range(0,10):\n",
    "    print(data2[i], end=\" \")\n",
    "\n",
    "\n",
    "file2_byte1 = data2[0]\n",
    "file2_byte2 = data2[1]\n",
    "\n",
    "alpha, beta = alpha_beta_symmetric_encryption(file2_byte1, file2_byte2, pdf[0], pdf[1])\n",
    "\n",
    "print('\\n')\n",
    "print(\"Alpha=\",alpha)\n",
    "print(\"Beta=\",beta)\n",
    "\n",
    "decripted_data2 = \"\"\n",
    "for byte in data2:\n",
    "    decripted_data2 += (chr(decript_symmetric_encryption(alpha, beta, byte)))\n",
    "\n",
    "bytes_decripted = decripted_data2.encode()\n",
    "print(bytes_decripted)\n",
    "file2_decripted = open(FILES_FOLDER + \"file2_decripted.pdf\", \"wb\")\n",
    "file2_decripted.write(bytes_decripted)\n",
    "file2_decripted.close()\n"
   ]
  }
 ],
 "metadata": {
  "kernelspec": {
   "display_name": "Python 3",
   "language": "python",
   "name": "python3"
  },
  "language_info": {
   "codemirror_mode": {
    "name": "ipython",
    "version": 3
   },
   "file_extension": ".py",
   "mimetype": "text/x-python",
   "name": "python",
   "nbconvert_exporter": "python",
   "pygments_lexer": "ipython3",
   "version": "3.11.9"
  }
 },
 "nbformat": 4,
 "nbformat_minor": 2
}
