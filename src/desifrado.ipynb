{
 "cells": [
  {
   "cell_type": "markdown",
   "metadata": {},
   "source": [
    "# Practica4"
   ]
  },
  {
   "cell_type": "code",
   "execution_count": 4,
   "metadata": {},
   "outputs": [
    {
     "name": "stdout",
     "output_type": "stream",
     "text": [
      "b'iVBORw0KGgoAAAANSUhE'\n"
     ]
    }
   ],
   "source": [
    "import os\n",
    "FILES_FOLDER = \".\\\\files\\\\\"\n",
    "\n",
    "file1 = open(FILES_FOLDER + \"file1.lol\", \"rb\")\n",
    "data1 = file1.read()\n",
    "file1.close()\n",
    "\n",
    "for i in range(0,10):\n",
    "    print(data1[i], end=\" \")\n"
   ]
  }
 ],
 "metadata": {
  "kernelspec": {
   "display_name": "Python 3",
   "language": "python",
   "name": "python3"
  },
  "language_info": {
   "codemirror_mode": {
    "name": "ipython",
    "version": 3
   },
   "file_extension": ".py",
   "mimetype": "text/x-python",
   "name": "python",
   "nbconvert_exporter": "python",
   "pygments_lexer": "ipython3",
   "version": "3.11.9"
  }
 },
 "nbformat": 4,
 "nbformat_minor": 2
}
